{
 "cells": [
  {
   "cell_type": "code",
   "execution_count": 1,
   "metadata": {},
   "outputs": [],
   "source": [
    "# ( timestamp > 1564272000000 and timestamp < 1567468800000 )  ?  NaN  :  pm25_raw\n",
    "\n",
    "# ( \"mqtt:nesta-7\".equals(\"$node\") and (timestamp > 1564272000000 and\n",
    "# timestamp < 1567468800000 )) ? NaN : pm25_raw"
   ]
  },
  {
   "cell_type": "code",
   "execution_count": 2,
   "metadata": {},
   "outputs": [],
   "source": [
    "from datetime import datetime\n",
    "from datetime import timezone\n",
    "from dateutil.parser import parse"
   ]
  },
  {
   "cell_type": "code",
   "execution_count": 3,
   "metadata": {},
   "outputs": [],
   "source": [
    "from get_aq_data import ID_to_name"
   ]
  },
  {
   "cell_type": "code",
   "execution_count": 4,
   "metadata": {},
   "outputs": [],
   "source": [
    "def to_timestamp(dt):\n",
    "    return int(dt.replace(tzinfo=timezone.utc).timestamp()*1000)\n",
    "\n",
    "def from_timestamp(timestamp):\n",
    "    return datetime.utcfromtimestamp(int(timestamp) / 1000)"
   ]
  },
  {
   "cell_type": "code",
   "execution_count": 20,
   "metadata": {},
   "outputs": [],
   "source": [
    "def get_timestamp_statement(value):\n",
    "    if len(value) == 2:\n",
    "        start_timestamp = to_timestamp(parse(value[0]))\n",
    "        end_timestamp = to_timestamp(parse(value[1]))\n",
    "        timestamp_statement = f'(timestamp > {start_timestamp} and timestamp < {end_timestamp})'\n",
    "    elif len(value) == 1:\n",
    "        end_timestamp = to_timestamp(parse(value[0]))\n",
    "        timestamp_statement  = f'(timestamp < {end_timestamp})'\n",
    "    \n",
    "    return timestamp_statement"
   ]
  },
  {
   "cell_type": "code",
   "execution_count": 37,
   "metadata": {},
   "outputs": [],
   "source": [
    "def print_individual_filters(data):\n",
    "    for name, time_specs in data.items():\n",
    "        sensor_name = ID_to_name[name.split(':')[1]]\n",
    "\n",
    "        if len(time_specs) == 1:\n",
    "            timestamp_statement = get_timestamp_statement(time_specs[0])\n",
    "            output = timestamp_statement\n",
    "        else:\n",
    "            timestamp_statements = [get_timestamp_statement(time_spec) for time_spec in time_specs]\n",
    "            output = f'( {\" or \".join(timestamp_statements)} )'\n",
    "\n",
    "        print(f'{sensor_name}: {output} ? NaN : pm25_raw')"
   ]
  },
  {
   "cell_type": "code",
   "execution_count": 38,
   "metadata": {},
   "outputs": [],
   "source": [
    "def print_overall_filter(data):\n",
    "    node_statements = []\n",
    "    for name, time_specs in data.items():\n",
    "\n",
    "        if len(time_specs) == 1:\n",
    "            timestamp_statement = get_timestamp_statement(time_specs[0])\n",
    "            output = timestamp_statement\n",
    "        else:\n",
    "            timestamp_statements = [get_timestamp_statement(time_spec) for time_spec in time_specs]\n",
    "            output = f'( {\" or \".join(timestamp_statements)} )'\n",
    "\n",
    "        node_statements.append(f'(\"{name}\".equals(\"$node\") and {output})')\n",
    "\n",
    "    print(\" or \".join(node_statements) + \" ? NaN : pm25_raw\")"
   ]
  },
  {
   "cell_type": "code",
   "execution_count": null,
   "metadata": {},
   "outputs": [],
   "source": [
    "# ( timestamp > 1571097600000 and timestamp < 1571918400000 )  ?  NaN  :  pm25_raw"
   ]
  },
  {
   "cell_type": "code",
   "execution_count": 43,
   "metadata": {},
   "outputs": [
    {
     "data": {
      "text/plain": [
       "datetime.datetime(2019, 10, 24, 12, 0)"
      ]
     },
     "execution_count": 43,
     "metadata": {},
     "output_type": "execute_result"
    }
   ],
   "source": [
    "from_timestamp(1571918400000)"
   ]
  },
  {
   "cell_type": "code",
   "execution_count": 44,
   "metadata": {},
   "outputs": [],
   "source": [
    "data = {\n",
    "        'mqtt:nesta-7': [['2019-07-28', '2019-09-03']],\n",
    "        'mqtt:nesta-9': [['2019-10-15']],\n",
    "        'mqtt:nesta-4': [['2019-10-15', '2019-11-06']]\n",
    "        # Example below for multiple periods\n",
    "        #'mqtt:nesta-2-1': [('2019-10-01 10:00', '2019-10-01 14:00'), ('2019-09-30 22:00', '2019-10-01 03:00')]\n",
    "       }"
   ]
  },
  {
   "cell_type": "code",
   "execution_count": 45,
   "metadata": {},
   "outputs": [
    {
     "name": "stdout",
     "output_type": "stream",
     "text": [
      "St Denys Rd: (timestamp > 1564272000000 and timestamp < 1567468800000) ? NaN : pm25_raw\n",
      "Riverside: (timestamp < 1571097600000) ? NaN : pm25_raw\n",
      "Horseshoe Bridge: (timestamp > 1571097600000 and timestamp < 1572998400000) ? NaN : pm25_raw\n"
     ]
    }
   ],
   "source": [
    "print_individual_filters(data)"
   ]
  },
  {
   "cell_type": "code",
   "execution_count": 46,
   "metadata": {},
   "outputs": [
    {
     "name": "stdout",
     "output_type": "stream",
     "text": [
      "(\"mqtt:nesta-7\".equals(\"$node\") and (timestamp > 1564272000000 and timestamp < 1567468800000)) or (\"mqtt:nesta-9\".equals(\"$node\") and (timestamp < 1571097600000)) or (\"mqtt:nesta-4\".equals(\"$node\") and (timestamp > 1571097600000 and timestamp < 1572998400000)) ? NaN : pm25_raw\n"
     ]
    }
   ],
   "source": [
    "print_overall_filter(data)"
   ]
  },
  {
   "cell_type": "code",
   "execution_count": null,
   "metadata": {},
   "outputs": [],
   "source": []
  }
 ],
 "metadata": {
  "kernelspec": {
   "display_name": "Python 3",
   "language": "python",
   "name": "python3"
  },
  "language_info": {
   "codemirror_mode": {
    "name": "ipython",
    "version": 3
   },
   "file_extension": ".py",
   "mimetype": "text/x-python",
   "name": "python",
   "nbconvert_exporter": "python",
   "pygments_lexer": "ipython3",
   "version": "3.7.1"
  }
 },
 "nbformat": 4,
 "nbformat_minor": 2
}
