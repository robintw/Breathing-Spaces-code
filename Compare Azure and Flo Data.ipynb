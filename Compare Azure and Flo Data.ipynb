{
 "cells": [
  {
   "cell_type": "markdown",
   "metadata": {},
   "source": [
    "## Compare data from the Azure Table and the CSV data from Flo\n",
    "We want to get them into the same format and make sure they are roughly comparable (the actual values will be different as the calculation and averaging methods are slightly different)"
   ]
  },
  {
   "cell_type": "code",
   "execution_count": 34,
   "metadata": {},
   "outputs": [],
   "source": [
    "%matplotlib inline\n",
    "import pandas as pd\n",
    "import numpy as np\n",
    "import matplotlib.pyplot as plt\n",
    "from get_aq_data import get_all_sensor_data, ID_to_name"
   ]
  },
  {
   "cell_type": "markdown",
   "metadata": {},
   "source": [
    "### Data from Azure Table"
   ]
  },
  {
   "cell_type": "code",
   "execution_count": 3,
   "metadata": {},
   "outputs": [],
   "source": [
    "data, hourly_mean, daily_mean = get_all_sensor_data()"
   ]
  },
  {
   "cell_type": "code",
   "execution_count": 6,
   "metadata": {},
   "outputs": [
    {
     "data": {
      "text/html": [
       "<div>\n",
       "<style scoped>\n",
       "    .dataframe tbody tr th:only-of-type {\n",
       "        vertical-align: middle;\n",
       "    }\n",
       "\n",
       "    .dataframe tbody tr th {\n",
       "        vertical-align: top;\n",
       "    }\n",
       "\n",
       "    .dataframe thead th {\n",
       "        text-align: right;\n",
       "    }\n",
       "</style>\n",
       "<table border=\"1\" class=\"dataframe\">\n",
       "  <thead>\n",
       "    <tr style=\"text-align: right;\">\n",
       "      <th></th>\n",
       "      <th>nesta-1</th>\n",
       "      <th>nesta-2</th>\n",
       "      <th>nesta-4</th>\n",
       "      <th>nesta-5</th>\n",
       "      <th>nesta-6</th>\n",
       "      <th>nesta-7</th>\n",
       "      <th>nesta-8</th>\n",
       "    </tr>\n",
       "    <tr>\n",
       "      <th>timestamp</th>\n",
       "      <th></th>\n",
       "      <th></th>\n",
       "      <th></th>\n",
       "      <th></th>\n",
       "      <th></th>\n",
       "      <th></th>\n",
       "      <th></th>\n",
       "    </tr>\n",
       "  </thead>\n",
       "  <tbody>\n",
       "    <tr>\n",
       "      <th>2019-05-22 13:00:00</th>\n",
       "      <td>5.5</td>\n",
       "      <td>NaN</td>\n",
       "      <td>6.0</td>\n",
       "      <td>NaN</td>\n",
       "      <td>6.5</td>\n",
       "      <td>6.0</td>\n",
       "      <td>NaN</td>\n",
       "    </tr>\n",
       "    <tr>\n",
       "      <th>2019-05-22 14:00:00</th>\n",
       "      <td>NaN</td>\n",
       "      <td>NaN</td>\n",
       "      <td>4.0</td>\n",
       "      <td>NaN</td>\n",
       "      <td>5.0</td>\n",
       "      <td>6.0</td>\n",
       "      <td>NaN</td>\n",
       "    </tr>\n",
       "    <tr>\n",
       "      <th>2019-05-22 15:00:00</th>\n",
       "      <td>4.0</td>\n",
       "      <td>4.0</td>\n",
       "      <td>4.0</td>\n",
       "      <td>NaN</td>\n",
       "      <td>5.0</td>\n",
       "      <td>NaN</td>\n",
       "      <td>NaN</td>\n",
       "    </tr>\n",
       "    <tr>\n",
       "      <th>2019-05-22 16:00:00</th>\n",
       "      <td>NaN</td>\n",
       "      <td>NaN</td>\n",
       "      <td>NaN</td>\n",
       "      <td>NaN</td>\n",
       "      <td>NaN</td>\n",
       "      <td>NaN</td>\n",
       "      <td>NaN</td>\n",
       "    </tr>\n",
       "    <tr>\n",
       "      <th>2019-05-22 17:00:00</th>\n",
       "      <td>NaN</td>\n",
       "      <td>NaN</td>\n",
       "      <td>NaN</td>\n",
       "      <td>NaN</td>\n",
       "      <td>NaN</td>\n",
       "      <td>NaN</td>\n",
       "      <td>NaN</td>\n",
       "    </tr>\n",
       "  </tbody>\n",
       "</table>\n",
       "</div>"
      ],
      "text/plain": [
       "                     nesta-1  nesta-2  nesta-4  nesta-5  nesta-6  nesta-7  \\\n",
       "timestamp                                                                   \n",
       "2019-05-22 13:00:00      5.5      NaN      6.0      NaN      6.5      6.0   \n",
       "2019-05-22 14:00:00      NaN      NaN      4.0      NaN      5.0      6.0   \n",
       "2019-05-22 15:00:00      4.0      4.0      4.0      NaN      5.0      NaN   \n",
       "2019-05-22 16:00:00      NaN      NaN      NaN      NaN      NaN      NaN   \n",
       "2019-05-22 17:00:00      NaN      NaN      NaN      NaN      NaN      NaN   \n",
       "\n",
       "                     nesta-8  \n",
       "timestamp                     \n",
       "2019-05-22 13:00:00      NaN  \n",
       "2019-05-22 14:00:00      NaN  \n",
       "2019-05-22 15:00:00      NaN  \n",
       "2019-05-22 16:00:00      NaN  \n",
       "2019-05-22 17:00:00      NaN  "
      ]
     },
     "execution_count": 6,
     "metadata": {},
     "output_type": "execute_result"
    }
   ],
   "source": [
    "hourly_mean.head(5)"
   ]
  },
  {
   "cell_type": "markdown",
   "metadata": {},
   "source": [
    "### Data from Flo"
   ]
  },
  {
   "cell_type": "code",
   "execution_count": 45,
   "metadata": {},
   "outputs": [],
   "source": [
    "flo_data = pd.read_csv('../Data/BS Sensors/20190307 to 20190823_15min averages_StDenys_6sensors.csv', parse_dates=[2], dayfirst=True)\n",
    "flo_data = flo_data.drop('Unnamed: 0', axis=1)\n",
    "flo_data = flo_data[['site', 'date', 'pm25_mean']]\n",
    "flo_data = flo_data.pivot(columns='site', index='date', values='pm25_mean')\n",
    "flo_data.columns = [col.lower() for col in flo_data.columns]\n",
    "flo_data.index.name = 'timestamp'\n",
    "flo_data['nesta-2'] = flo_data['nesta-2'].combine_first(flo_data['nesta-2-1'])\n",
    "del flo_data['nesta-2-1']"
   ]
  },
  {
   "cell_type": "code",
   "execution_count": 47,
   "metadata": {},
   "outputs": [
    {
     "name": "stdout",
     "output_type": "stream",
     "text": [
      "<class 'pandas.core.frame.DataFrame'>\n",
      "DatetimeIndex: 16248 entries, 2019-03-07 00:00:00 to 2019-08-23 05:45:00\n",
      "Data columns (total 7 columns):\n",
      "nesta-1    11729 non-null float64\n",
      "nesta-2    12567 non-null float64\n",
      "nesta-4    16248 non-null float64\n",
      "nesta-5    13376 non-null float64\n",
      "nesta-6    12691 non-null float64\n",
      "nesta-7    12696 non-null float64\n",
      "nesta-8    2612 non-null float64\n",
      "dtypes: float64(7)\n",
      "memory usage: 1015.5 KB\n"
     ]
    }
   ],
   "source": [
    "flo_data.info()"
   ]
  },
  {
   "cell_type": "code",
   "execution_count": null,
   "metadata": {},
   "outputs": [],
   "source": []
  }
 ],
 "metadata": {
  "hide_input": false,
  "kernelspec": {
   "display_name": "Python 3",
   "language": "python",
   "name": "python3"
  },
  "language_info": {
   "codemirror_mode": {
    "name": "ipython",
    "version": 3
   },
   "file_extension": ".py",
   "mimetype": "text/x-python",
   "name": "python",
   "nbconvert_exporter": "python",
   "pygments_lexer": "ipython3",
   "version": "3.7.1"
  }
 },
 "nbformat": 4,
 "nbformat_minor": 2
}
