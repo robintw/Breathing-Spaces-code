{
 "cells": [
  {
   "cell_type": "code",
   "execution_count": 2,
   "metadata": {},
   "outputs": [
    {
     "data": {
      "text/plain": [
       "'0.25.3'"
      ]
     },
     "execution_count": 2,
     "metadata": {},
     "output_type": "execute_result"
    }
   ],
   "source": [
    "import pandas as pd\n",
    "import numpy as np\n",
    "import matplotlib.pyplot as plt\n",
    "%matplotlib inline\n",
    "pd.__version__"
   ]
  },
  {
   "cell_type": "markdown",
   "metadata": {},
   "source": [
    "## Introduction\n",
    "Here we're trying to extract 6 hours of data that was missing from the InfluxDB server due to a mistake that I (Robin Wilson) made while configuring InfluxDB imports. The data was missing between 2020-01-23 13:45 and 2020-01-23 19:30. We need to extract this data and get it into the right format for importing manually."
   ]
  },
  {
   "cell_type": "markdown",
   "metadata": {},
   "source": [
    "## Read the full past data set from Flo\n",
    "This contains all of the past data available at the time of export. None of this has been corrected"
   ]
  },
  {
   "cell_type": "code",
   "execution_count": 3,
   "metadata": {},
   "outputs": [
    {
     "name": "stderr",
     "output_type": "stream",
     "text": [
      "/Users/robin/anaconda3/envs/breathingspaces/lib/python3.7/site-packages/IPython/core/interactiveshell.py:3020: DtypeWarning: Columns (9) have mixed types. Specify dtype option on import or set low_memory=False.\n",
      "  interactivity=interactivity, compiler=compiler, result=result)\n",
      "/Users/robin/anaconda3/envs/breathingspaces/lib/python3.7/site-packages/ipykernel_launcher.py:6: SettingWithCopyWarning: \n",
      "A value is trying to be set on a copy of a slice from a DataFrame\n",
      "\n",
      "See the caveats in the documentation: http://pandas.pydata.org/pandas-docs/stable/user_guide/indexing.html#returning-a-view-versus-a-copy\n",
      "  \n"
     ]
    }
   ],
   "source": [
    "# Load all past data, deal with nesta-2 vs nesta-2-1 issue\n",
    "all_past_data = pd.read_csv('../Data/BS Sensors/Back data for 6hrs missing data - Jan 2019/aq.csv', names=['location', 'timestamp',\n",
    "                                                           'temperature', 'humidity',\n",
    "                                                           'pm25', 'pm10', 'count',\n",
    "                                                           'pm_sensor_count', 'temphum_sensor_count', 'unknown'])\n",
    "all_past_data.location[all_past_data.location == \"nesta-2\"] = 'nesta-2-1'\n",
    "all_past_data['timestamp'] = pd.to_datetime(all_past_data.timestamp)\n",
    "\n",
    "all_past_data.loc[all_past_data.temphum_sensor_count == 0, 'temperature'] = np.nan\n",
    "all_past_data.loc[all_past_data.temphum_sensor_count == 0, 'humidity'] = np.nan"
   ]
  },
  {
   "cell_type": "code",
   "execution_count": 4,
   "metadata": {},
   "outputs": [
    {
     "data": {
      "text/plain": [
       "(Timestamp('2019-03-15 16:56:27.243513'),\n",
       " Timestamp('2020-01-24 08:30:12.865538'))"
      ]
     },
     "execution_count": 4,
     "metadata": {},
     "output_type": "execute_result"
    }
   ],
   "source": [
    "# Time range of full past data\n",
    "all_past_data.timestamp.min(), all_past_data.timestamp.max()"
   ]
  },
  {
   "cell_type": "code",
   "execution_count": 5,
   "metadata": {},
   "outputs": [
    {
     "data": {
      "text/plain": [
       "nesta-6          26094\n",
       "nesta-7          22521\n",
       "nesta-5          22365\n",
       "nesta-4          21378\n",
       "aurn-3           20227\n",
       "nesta-2-1        20185\n",
       "aurn-4           19360\n",
       "aurn-2           18522\n",
       "b2-new-forest    17022\n",
       "nesta-1          15507\n",
       "aurn-1           14650\n",
       "nesta-8           9076\n",
       "nesta-11          7273\n",
       "b1-lanchester     7085\n",
       "nesta-12          6154\n",
       "nesta-9           5916\n",
       "nesta-13          1029\n",
       "nesta-10           672\n",
       "Name: location, dtype: int64"
      ]
     },
     "execution_count": 5,
     "metadata": {},
     "output_type": "execute_result"
    }
   ],
   "source": [
    "# Sensors included in full past data\n",
    "all_past_data.location.value_counts()"
   ]
  },
  {
   "cell_type": "code",
   "execution_count": 31,
   "metadata": {},
   "outputs": [],
   "source": [
    "final_result = all_past_data"
   ]
  },
  {
   "cell_type": "code",
   "execution_count": 32,
   "metadata": {},
   "outputs": [],
   "source": [
    "# Add useful field for later - 'display' = True, so we can eventually use it for filtering for display if necessary\n",
    "final_result['display'] = True"
   ]
  },
  {
   "cell_type": "markdown",
   "metadata": {},
   "source": [
    "## Subset to just data that isn't already in InfluxDB\n",
    "The automatic MQTT import to InfluxDB means that some data is already in there. The earliest data points available in InfluxDB are from the 12th Dec 2019 at 10:00, so we just want data from before that"
   ]
  },
  {
   "cell_type": "code",
   "execution_count": 39,
   "metadata": {},
   "outputs": [],
   "source": [
    "final_result_subset = final_result[(final_result.timestamp < pd.to_datetime('2020-01-23 19:28')) &\n",
    "                                          (final_result.timestamp > pd.to_datetime('2020-01-23 13:45'))]"
   ]
  },
  {
   "cell_type": "code",
   "execution_count": 40,
   "metadata": {},
   "outputs": [
    {
     "data": {
      "text/html": [
       "<div>\n",
       "<style scoped>\n",
       "    .dataframe tbody tr th:only-of-type {\n",
       "        vertical-align: middle;\n",
       "    }\n",
       "\n",
       "    .dataframe tbody tr th {\n",
       "        vertical-align: top;\n",
       "    }\n",
       "\n",
       "    .dataframe thead th {\n",
       "        text-align: right;\n",
       "    }\n",
       "</style>\n",
       "<table border=\"1\" class=\"dataframe\">\n",
       "  <thead>\n",
       "    <tr style=\"text-align: right;\">\n",
       "      <th></th>\n",
       "      <th>location</th>\n",
       "      <th>timestamp</th>\n",
       "      <th>temperature</th>\n",
       "      <th>humidity</th>\n",
       "      <th>pm25</th>\n",
       "      <th>pm10</th>\n",
       "      <th>count</th>\n",
       "      <th>pm_sensor_count</th>\n",
       "      <th>temphum_sensor_count</th>\n",
       "      <th>unknown</th>\n",
       "      <th>display</th>\n",
       "    </tr>\n",
       "  </thead>\n",
       "  <tbody>\n",
       "    <tr>\n",
       "      <th>254019</th>\n",
       "      <td>nesta-11</td>\n",
       "      <td>2020-01-23 13:45:06.316070</td>\n",
       "      <td>11.0</td>\n",
       "      <td>65.0</td>\n",
       "      <td>14</td>\n",
       "      <td>13</td>\n",
       "      <td>230</td>\n",
       "      <td>6</td>\n",
       "      <td>1</td>\n",
       "      <td>False</td>\n",
       "      <td>True</td>\n",
       "    </tr>\n",
       "    <tr>\n",
       "      <th>254020</th>\n",
       "      <td>nesta-1</td>\n",
       "      <td>2020-01-23 13:45:06.436135</td>\n",
       "      <td>NaN</td>\n",
       "      <td>NaN</td>\n",
       "      <td>10</td>\n",
       "      <td>9</td>\n",
       "      <td>176</td>\n",
       "      <td>8</td>\n",
       "      <td>0</td>\n",
       "      <td>False</td>\n",
       "      <td>True</td>\n",
       "    </tr>\n",
       "    <tr>\n",
       "      <th>254021</th>\n",
       "      <td>nesta-12</td>\n",
       "      <td>2020-01-23 13:45:06.757751</td>\n",
       "      <td>10.0</td>\n",
       "      <td>70.0</td>\n",
       "      <td>12</td>\n",
       "      <td>10</td>\n",
       "      <td>187</td>\n",
       "      <td>8</td>\n",
       "      <td>1</td>\n",
       "      <td>False</td>\n",
       "      <td>True</td>\n",
       "    </tr>\n",
       "    <tr>\n",
       "      <th>254022</th>\n",
       "      <td>nesta-8</td>\n",
       "      <td>2020-01-23 13:45:06.946875</td>\n",
       "      <td>17.0</td>\n",
       "      <td>46.0</td>\n",
       "      <td>13</td>\n",
       "      <td>12</td>\n",
       "      <td>182</td>\n",
       "      <td>6</td>\n",
       "      <td>1</td>\n",
       "      <td>False</td>\n",
       "      <td>True</td>\n",
       "    </tr>\n",
       "    <tr>\n",
       "      <th>254023</th>\n",
       "      <td>nesta-5</td>\n",
       "      <td>2020-01-23 13:45:07.039675</td>\n",
       "      <td>NaN</td>\n",
       "      <td>NaN</td>\n",
       "      <td>15</td>\n",
       "      <td>12</td>\n",
       "      <td>208</td>\n",
       "      <td>6</td>\n",
       "      <td>0</td>\n",
       "      <td>False</td>\n",
       "      <td>True</td>\n",
       "    </tr>\n",
       "    <tr>\n",
       "      <th>...</th>\n",
       "      <td>...</td>\n",
       "      <td>...</td>\n",
       "      <td>...</td>\n",
       "      <td>...</td>\n",
       "      <td>...</td>\n",
       "      <td>...</td>\n",
       "      <td>...</td>\n",
       "      <td>...</td>\n",
       "      <td>...</td>\n",
       "      <td>...</td>\n",
       "      <td>...</td>\n",
       "    </tr>\n",
       "    <tr>\n",
       "      <th>254322</th>\n",
       "      <td>b2-new-forest</td>\n",
       "      <td>2020-01-23 19:15:07.682294</td>\n",
       "      <td>9.0</td>\n",
       "      <td>100.0</td>\n",
       "      <td>50</td>\n",
       "      <td>38</td>\n",
       "      <td>43</td>\n",
       "      <td>4</td>\n",
       "      <td>1</td>\n",
       "      <td>False</td>\n",
       "      <td>True</td>\n",
       "    </tr>\n",
       "    <tr>\n",
       "      <th>254323</th>\n",
       "      <td>nesta-7</td>\n",
       "      <td>2020-01-23 19:15:07.690126</td>\n",
       "      <td>15.0</td>\n",
       "      <td>49.0</td>\n",
       "      <td>27</td>\n",
       "      <td>22</td>\n",
       "      <td>239</td>\n",
       "      <td>4</td>\n",
       "      <td>1</td>\n",
       "      <td>False</td>\n",
       "      <td>True</td>\n",
       "    </tr>\n",
       "    <tr>\n",
       "      <th>254324</th>\n",
       "      <td>aurn-1</td>\n",
       "      <td>2020-01-23 19:15:07.795391</td>\n",
       "      <td>8.0</td>\n",
       "      <td>35.0</td>\n",
       "      <td>16</td>\n",
       "      <td>17</td>\n",
       "      <td>213</td>\n",
       "      <td>7</td>\n",
       "      <td>3</td>\n",
       "      <td>False</td>\n",
       "      <td>True</td>\n",
       "    </tr>\n",
       "    <tr>\n",
       "      <th>254325</th>\n",
       "      <td>b1-lanchester</td>\n",
       "      <td>2020-01-23 19:15:10.837283</td>\n",
       "      <td>7.0</td>\n",
       "      <td>100.0</td>\n",
       "      <td>41</td>\n",
       "      <td>31</td>\n",
       "      <td>61</td>\n",
       "      <td>5</td>\n",
       "      <td>1</td>\n",
       "      <td>False</td>\n",
       "      <td>True</td>\n",
       "    </tr>\n",
       "    <tr>\n",
       "      <th>254326</th>\n",
       "      <td>nesta-2-1</td>\n",
       "      <td>2020-01-23 19:15:13.122339</td>\n",
       "      <td>12.0</td>\n",
       "      <td>76.0</td>\n",
       "      <td>27</td>\n",
       "      <td>25</td>\n",
       "      <td>407</td>\n",
       "      <td>6</td>\n",
       "      <td>1</td>\n",
       "      <td>False</td>\n",
       "      <td>True</td>\n",
       "    </tr>\n",
       "  </tbody>\n",
       "</table>\n",
       "<p>308 rows × 11 columns</p>\n",
       "</div>"
      ],
      "text/plain": [
       "             location                  timestamp  temperature  humidity  pm25  \\\n",
       "254019       nesta-11 2020-01-23 13:45:06.316070         11.0      65.0    14   \n",
       "254020        nesta-1 2020-01-23 13:45:06.436135          NaN       NaN    10   \n",
       "254021       nesta-12 2020-01-23 13:45:06.757751         10.0      70.0    12   \n",
       "254022        nesta-8 2020-01-23 13:45:06.946875         17.0      46.0    13   \n",
       "254023        nesta-5 2020-01-23 13:45:07.039675          NaN       NaN    15   \n",
       "...               ...                        ...          ...       ...   ...   \n",
       "254322  b2-new-forest 2020-01-23 19:15:07.682294          9.0     100.0    50   \n",
       "254323        nesta-7 2020-01-23 19:15:07.690126         15.0      49.0    27   \n",
       "254324         aurn-1 2020-01-23 19:15:07.795391          8.0      35.0    16   \n",
       "254325  b1-lanchester 2020-01-23 19:15:10.837283          7.0     100.0    41   \n",
       "254326      nesta-2-1 2020-01-23 19:15:13.122339         12.0      76.0    27   \n",
       "\n",
       "        pm10  count  pm_sensor_count  temphum_sensor_count unknown  display  \n",
       "254019    13    230                6                     1   False     True  \n",
       "254020     9    176                8                     0   False     True  \n",
       "254021    10    187                8                     1   False     True  \n",
       "254022    12    182                6                     1   False     True  \n",
       "254023    12    208                6                     0   False     True  \n",
       "...      ...    ...              ...                   ...     ...      ...  \n",
       "254322    38     43                4                     1   False     True  \n",
       "254323    22    239                4                     1   False     True  \n",
       "254324    17    213                7                     3   False     True  \n",
       "254325    31     61                5                     1   False     True  \n",
       "254326    25    407                6                     1   False     True  \n",
       "\n",
       "[308 rows x 11 columns]"
      ]
     },
     "execution_count": 40,
     "metadata": {},
     "output_type": "execute_result"
    }
   ],
   "source": [
    "final_result_subset"
   ]
  },
  {
   "cell_type": "code",
   "execution_count": 41,
   "metadata": {},
   "outputs": [
    {
     "data": {
      "text/plain": [
       "(Timestamp('2020-01-23 13:45:06.316070'),\n",
       " Timestamp('2020-01-23 19:15:13.122339'))"
      ]
     },
     "execution_count": 41,
     "metadata": {},
     "output_type": "execute_result"
    }
   ],
   "source": [
    "final_result_subset.timestamp.min(), final_result_subset.timestamp.max()"
   ]
  },
  {
   "cell_type": "markdown",
   "metadata": {},
   "source": [
    "## Convert into the right format for importing into InfluxDB\n",
    "We need the CSV in the right format and the columns etc to match what we've already got in Influx for the live MQTT data.\n",
    "\n",
    "Useful docs:\n",
    " - https://www.influxdata.com/blog/how-to-write-points-from-csv-to-influxdb/\n",
    " - https://github.com/influxdata/telegraf/tree/master/plugins/parsers/csv\n",
    " - https://docs.influxdata.com/influxdb/v1.7/write_protocols/line_protocol_tutorial/"
   ]
  },
  {
   "cell_type": "code",
   "execution_count": 42,
   "metadata": {},
   "outputs": [
    {
     "data": {
      "text/plain": [
       "Index(['location', 'timestamp', 'temperature', 'humidity', 'pm25', 'pm10',\n",
       "       'count', 'pm_sensor_count', 'temphum_sensor_count', 'unknown',\n",
       "       'display'],\n",
       "      dtype='object')"
      ]
     },
     "execution_count": 42,
     "metadata": {},
     "output_type": "execute_result"
    }
   ],
   "source": [
    "final_result_subset.columns"
   ]
  },
  {
   "cell_type": "code",
   "execution_count": 44,
   "metadata": {},
   "outputs": [],
   "source": [
    "final_result_subset.columns = ['dev_id', 'timestamp', 'p_temperature', 'p_humidity', 'p_pm25', 'p_pm10',\n",
    "                               'p_count', 'p_pm_sensor_count', 'p_temphum_sensor_count', 'p_corrected', 'p_display']"
   ]
  },
  {
   "cell_type": "code",
   "execution_count": 45,
   "metadata": {},
   "outputs": [
    {
     "name": "stderr",
     "output_type": "stream",
     "text": [
      "/Users/robin/anaconda3/envs/breathingspaces/lib/python3.7/site-packages/ipykernel_launcher.py:1: SettingWithCopyWarning: \n",
      "A value is trying to be set on a copy of a slice from a DataFrame.\n",
      "Try using .loc[row_indexer,col_indexer] = value instead\n",
      "\n",
      "See the caveats in the documentation: http://pandas.pydata.org/pandas-docs/stable/user_guide/indexing.html#returning-a-view-versus-a-copy\n",
      "  \"\"\"Entry point for launching an IPython kernel.\n"
     ]
    }
   ],
   "source": [
    "final_result_subset['timestamp'] = final_result_subset.timestamp.astype(int).astype(str)"
   ]
  },
  {
   "cell_type": "code",
   "execution_count": 46,
   "metadata": {},
   "outputs": [
    {
     "name": "stderr",
     "output_type": "stream",
     "text": [
      "/Users/robin/anaconda3/envs/breathingspaces/lib/python3.7/site-packages/ipykernel_launcher.py:1: SettingWithCopyWarning: \n",
      "A value is trying to be set on a copy of a slice from a DataFrame.\n",
      "Try using .loc[row_indexer,col_indexer] = value instead\n",
      "\n",
      "See the caveats in the documentation: http://pandas.pydata.org/pandas-docs/stable/user_guide/indexing.html#returning-a-view-versus-a-copy\n",
      "  \"\"\"Entry point for launching an IPython kernel.\n",
      "/Users/robin/anaconda3/envs/breathingspaces/lib/python3.7/site-packages/ipykernel_launcher.py:2: SettingWithCopyWarning: \n",
      "A value is trying to be set on a copy of a slice from a DataFrame.\n",
      "Try using .loc[row_indexer,col_indexer] = value instead\n",
      "\n",
      "See the caveats in the documentation: http://pandas.pydata.org/pandas-docs/stable/user_guide/indexing.html#returning-a-view-versus-a-copy\n",
      "  \n",
      "/Users/robin/anaconda3/envs/breathingspaces/lib/python3.7/site-packages/ipykernel_launcher.py:3: SettingWithCopyWarning: \n",
      "A value is trying to be set on a copy of a slice from a DataFrame.\n",
      "Try using .loc[row_indexer,col_indexer] = value instead\n",
      "\n",
      "See the caveats in the documentation: http://pandas.pydata.org/pandas-docs/stable/user_guide/indexing.html#returning-a-view-versus-a-copy\n",
      "  This is separate from the ipykernel package so we can avoid doing imports until\n",
      "/Users/robin/anaconda3/envs/breathingspaces/lib/python3.7/site-packages/ipykernel_launcher.py:4: SettingWithCopyWarning: \n",
      "A value is trying to be set on a copy of a slice from a DataFrame.\n",
      "Try using .loc[row_indexer,col_indexer] = value instead\n",
      "\n",
      "See the caveats in the documentation: http://pandas.pydata.org/pandas-docs/stable/user_guide/indexing.html#returning-a-view-versus-a-copy\n",
      "  after removing the cwd from sys.path.\n"
     ]
    }
   ],
   "source": [
    "final_result_subset['p_count'] = final_result_subset['p_count'].astype('Int16')\n",
    "final_result_subset['p_temphum_sensor_count'] = final_result_subset['p_temphum_sensor_count'].astype('Int16')\n",
    "final_result_subset['p_count'] = final_result_subset['p_count'].astype('Int16')\n",
    "final_result_subset['p_pm_sensor_count'] = final_result_subset['p_pm_sensor_count'].astype('Int16')"
   ]
  },
  {
   "cell_type": "code",
   "execution_count": 47,
   "metadata": {},
   "outputs": [
    {
     "name": "stderr",
     "output_type": "stream",
     "text": [
      "/Users/robin/anaconda3/envs/breathingspaces/lib/python3.7/site-packages/ipykernel_launcher.py:1: SettingWithCopyWarning: \n",
      "A value is trying to be set on a copy of a slice from a DataFrame.\n",
      "Try using .loc[row_indexer,col_indexer] = value instead\n",
      "\n",
      "See the caveats in the documentation: http://pandas.pydata.org/pandas-docs/stable/user_guide/indexing.html#returning-a-view-versus-a-copy\n",
      "  \"\"\"Entry point for launching an IPython kernel.\n",
      "/Users/robin/anaconda3/envs/breathingspaces/lib/python3.7/site-packages/ipykernel_launcher.py:2: SettingWithCopyWarning: \n",
      "A value is trying to be set on a copy of a slice from a DataFrame.\n",
      "Try using .loc[row_indexer,col_indexer] = value instead\n",
      "\n",
      "See the caveats in the documentation: http://pandas.pydata.org/pandas-docs/stable/user_guide/indexing.html#returning-a-view-versus-a-copy\n",
      "  \n"
     ]
    }
   ],
   "source": [
    "final_result_subset['p_pm25'] = final_result_subset['p_pm25'].round(0).astype('Int16')\n",
    "final_result_subset['p_pm10'] = final_result_subset['p_pm10'].round(0).astype('Int16')"
   ]
  },
  {
   "cell_type": "code",
   "execution_count": 48,
   "metadata": {},
   "outputs": [
    {
     "data": {
      "text/plain": [
       "308"
      ]
     },
     "execution_count": 48,
     "metadata": {},
     "output_type": "execute_result"
    }
   ],
   "source": [
    "len(final_result_subset)"
   ]
  },
  {
   "cell_type": "markdown",
   "metadata": {},
   "source": [
    "## Write outputs to CSVs"
   ]
  },
  {
   "cell_type": "code",
   "execution_count": 50,
   "metadata": {},
   "outputs": [],
   "source": [
    "final_result_subset.to_csv('../Data/BS Sensors/2020-01-23_6hrsMissingDataForImport.csv', index=False, na_rep=\"null\")"
   ]
  }
 ],
 "metadata": {
  "hide_input": false,
  "kernelspec": {
   "display_name": "Python 3",
   "language": "python",
   "name": "python3"
  },
  "language_info": {
   "codemirror_mode": {
    "name": "ipython",
    "version": 3
   },
   "file_extension": ".py",
   "mimetype": "text/x-python",
   "name": "python",
   "nbconvert_exporter": "python",
   "pygments_lexer": "ipython3",
   "version": "3.7.1"
  }
 },
 "nbformat": 4,
 "nbformat_minor": 2
}
