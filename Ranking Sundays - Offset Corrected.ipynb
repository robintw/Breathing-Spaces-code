{
 "cells": [
  {
   "cell_type": "code",
   "execution_count": 1,
   "metadata": {},
   "outputs": [],
   "source": [
    "%matplotlib inline\n",
    "import datetime\n",
    "import pandas as pd\n",
    "import matplotlib.pyplot as plt"
   ]
  },
  {
   "cell_type": "code",
   "execution_count": 2,
   "metadata": {},
   "outputs": [],
   "source": [
    "from get_aq_data import get_flo_data, ID_to_name, TICKS_TWO_HOURLY"
   ]
  },
  {
   "cell_type": "code",
   "execution_count": 3,
   "metadata": {},
   "outputs": [],
   "source": [
    "data, hourly_mean, daily_mean = get_flo_data()"
   ]
  },
  {
   "cell_type": "code",
   "execution_count": 15,
   "metadata": {},
   "outputs": [],
   "source": [
    "subset = data['2019-05-01':]\n",
    "subset = subset.mean(axis=1)\n",
    "subset['2019-07-01':] = subset['2019-07-01':] + 5\n",
    "just_sundays = subset[subset.index.dayofweek == 6].to_frame('Mean')"
   ]
  },
  {
   "cell_type": "code",
   "execution_count": 16,
   "metadata": {},
   "outputs": [],
   "source": [
    "just_sundays['Special'] = 'Non-Special'\n",
    "just_sundays.loc['2019-05-05', 'Special'] = 'Marathon'\n",
    "just_sundays.loc['2019-07-21', 'Special'] = 'Just Ride'"
   ]
  },
  {
   "cell_type": "code",
   "execution_count": 17,
   "metadata": {},
   "outputs": [],
   "source": [
    "just_sundays['Time'] = just_sundays.index.time\n",
    "just_sundays['Date'] = just_sundays.index.date"
   ]
  },
  {
   "cell_type": "code",
   "execution_count": 18,
   "metadata": {},
   "outputs": [],
   "source": [
    "pivoted = just_sundays.pivot(columns='Date', index='Time', values='Mean')"
   ]
  },
  {
   "cell_type": "code",
   "execution_count": 19,
   "metadata": {},
   "outputs": [
    {
     "data": {
      "text/plain": [
       "datetime.time(0, 0)"
      ]
     },
     "execution_count": 19,
     "metadata": {},
     "output_type": "execute_result"
    }
   ],
   "source": [
    "pivoted.index[0]"
   ]
  },
  {
   "cell_type": "code",
   "execution_count": 20,
   "metadata": {},
   "outputs": [],
   "source": [
    "mean_middle_of_day = pivoted[datetime.time(10, 0):datetime.time(14,0)].mean(axis=0)\n",
    "mean_middle_of_day.name = 'Mean'"
   ]
  },
  {
   "cell_type": "code",
   "execution_count": 21,
   "metadata": {},
   "outputs": [],
   "source": [
    "day_ids = just_sundays.pivot(columns='Date', index='Time', values='Special').mode(axis=0).loc[0]"
   ]
  },
  {
   "cell_type": "code",
   "execution_count": 22,
   "metadata": {},
   "outputs": [],
   "source": [
    "day_ids.name = 'Special'"
   ]
  },
  {
   "cell_type": "code",
   "execution_count": 23,
   "metadata": {},
   "outputs": [],
   "source": [
    "merged = pd.merge(day_ids, mean_middle_of_day, left_index=True, right_index=True)"
   ]
  },
  {
   "cell_type": "code",
   "execution_count": 24,
   "metadata": {
    "scrolled": false
   },
   "outputs": [],
   "source": [
    "merged = merged.sort_values('Mean', ascending=False)"
   ]
  },
  {
   "cell_type": "code",
   "execution_count": 25,
   "metadata": {},
   "outputs": [
    {
     "data": {
      "text/html": [
       "<div>\n",
       "<style scoped>\n",
       "    .dataframe tbody tr th:only-of-type {\n",
       "        vertical-align: middle;\n",
       "    }\n",
       "\n",
       "    .dataframe tbody tr th {\n",
       "        vertical-align: top;\n",
       "    }\n",
       "\n",
       "    .dataframe thead th {\n",
       "        text-align: right;\n",
       "    }\n",
       "</style>\n",
       "<table border=\"1\" class=\"dataframe\">\n",
       "  <thead>\n",
       "    <tr style=\"text-align: right;\">\n",
       "      <th></th>\n",
       "      <th>Special</th>\n",
       "      <th>Mean</th>\n",
       "    </tr>\n",
       "    <tr>\n",
       "      <th>Date</th>\n",
       "      <th></th>\n",
       "      <th></th>\n",
       "    </tr>\n",
       "  </thead>\n",
       "  <tbody>\n",
       "    <tr>\n",
       "      <th>2019-06-23</th>\n",
       "      <td>Non-Special</td>\n",
       "      <td>14.518118</td>\n",
       "    </tr>\n",
       "    <tr>\n",
       "      <th>2019-08-04</th>\n",
       "      <td>Non-Special</td>\n",
       "      <td>14.130235</td>\n",
       "    </tr>\n",
       "    <tr>\n",
       "      <th>2019-06-02</th>\n",
       "      <td>Non-Special</td>\n",
       "      <td>12.200425</td>\n",
       "    </tr>\n",
       "    <tr>\n",
       "      <th>2019-07-14</th>\n",
       "      <td>Non-Special</td>\n",
       "      <td>11.677239</td>\n",
       "    </tr>\n",
       "    <tr>\n",
       "      <th>2019-08-11</th>\n",
       "      <td>Non-Special</td>\n",
       "      <td>8.546065</td>\n",
       "    </tr>\n",
       "    <tr>\n",
       "      <th>2019-05-19</th>\n",
       "      <td>Non-Special</td>\n",
       "      <td>7.963257</td>\n",
       "    </tr>\n",
       "    <tr>\n",
       "      <th>2019-07-07</th>\n",
       "      <td>Non-Special</td>\n",
       "      <td>7.920588</td>\n",
       "    </tr>\n",
       "    <tr>\n",
       "      <th>2019-07-28</th>\n",
       "      <td>Non-Special</td>\n",
       "      <td>7.819203</td>\n",
       "    </tr>\n",
       "    <tr>\n",
       "      <th>2019-07-21</th>\n",
       "      <td>Just Ride</td>\n",
       "      <td>6.779003</td>\n",
       "    </tr>\n",
       "    <tr>\n",
       "      <th>2019-08-18</th>\n",
       "      <td>Non-Special</td>\n",
       "      <td>6.658956</td>\n",
       "    </tr>\n",
       "    <tr>\n",
       "      <th>2019-05-12</th>\n",
       "      <td>Non-Special</td>\n",
       "      <td>6.407625</td>\n",
       "    </tr>\n",
       "    <tr>\n",
       "      <th>2019-05-05</th>\n",
       "      <td>Marathon</td>\n",
       "      <td>4.183246</td>\n",
       "    </tr>\n",
       "    <tr>\n",
       "      <th>2019-06-16</th>\n",
       "      <td>Non-Special</td>\n",
       "      <td>3.696118</td>\n",
       "    </tr>\n",
       "    <tr>\n",
       "      <th>2019-05-26</th>\n",
       "      <td>Non-Special</td>\n",
       "      <td>3.406776</td>\n",
       "    </tr>\n",
       "    <tr>\n",
       "      <th>2019-06-30</th>\n",
       "      <td>Non-Special</td>\n",
       "      <td>3.278562</td>\n",
       "    </tr>\n",
       "    <tr>\n",
       "      <th>2019-06-09</th>\n",
       "      <td>Non-Special</td>\n",
       "      <td>2.428758</td>\n",
       "    </tr>\n",
       "  </tbody>\n",
       "</table>\n",
       "</div>"
      ],
      "text/plain": [
       "                Special       Mean\n",
       "Date                              \n",
       "2019-06-23  Non-Special  14.518118\n",
       "2019-08-04  Non-Special  14.130235\n",
       "2019-06-02  Non-Special  12.200425\n",
       "2019-07-14  Non-Special  11.677239\n",
       "2019-08-11  Non-Special   8.546065\n",
       "2019-05-19  Non-Special   7.963257\n",
       "2019-07-07  Non-Special   7.920588\n",
       "2019-07-28  Non-Special   7.819203\n",
       "2019-07-21    Just Ride   6.779003\n",
       "2019-08-18  Non-Special   6.658956\n",
       "2019-05-12  Non-Special   6.407625\n",
       "2019-05-05     Marathon   4.183246\n",
       "2019-06-16  Non-Special   3.696118\n",
       "2019-05-26  Non-Special   3.406776\n",
       "2019-06-30  Non-Special   3.278562\n",
       "2019-06-09  Non-Special   2.428758"
      ]
     },
     "execution_count": 25,
     "metadata": {},
     "output_type": "execute_result"
    }
   ],
   "source": [
    "merged"
   ]
  },
  {
   "cell_type": "code",
   "execution_count": 51,
   "metadata": {},
   "outputs": [],
   "source": [
    "merged.to_excel('SundayRankings.xlsx')"
   ]
  },
  {
   "cell_type": "code",
   "execution_count": null,
   "metadata": {},
   "outputs": [],
   "source": []
  }
 ],
 "metadata": {
  "hide_input": false,
  "kernelspec": {
   "display_name": "Python 3",
   "language": "python",
   "name": "python3"
  },
  "language_info": {
   "codemirror_mode": {
    "name": "ipython",
    "version": 3
   },
   "file_extension": ".py",
   "mimetype": "text/x-python",
   "name": "python",
   "nbconvert_exporter": "python",
   "pygments_lexer": "ipython3",
   "version": "3.7.1"
  }
 },
 "nbformat": 4,
 "nbformat_minor": 2
}
