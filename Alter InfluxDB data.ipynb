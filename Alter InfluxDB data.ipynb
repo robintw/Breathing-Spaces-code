{
 "cells": [
  {
   "cell_type": "markdown",
   "metadata": {},
   "source": [
    "## Correcting points where p_display='true' to p_display=\"True\"\n",
    "Due to an error in the telegraf configuration, some points (around 4 for each sensor) were inserted with the `p_display` tag set to `'true'` rather than `'True'`. This corrects this by searching for those points, reinserting them with the correct tag, and then deleting the points with the old tag."
   ]
  },
  {
   "cell_type": "markdown",
   "metadata": {},
   "source": [
    "**Note:** The password is not included in this notebook so that it can be commited to Github. Please fill in the empty string in the line below to include the admin password for the InfluxDB server."
   ]
  },
  {
   "cell_type": "code",
   "execution_count": 7,
   "metadata": {},
   "outputs": [
    {
     "name": "stderr",
     "output_type": "stream",
     "text": [
      "/Users/robin/anaconda3/envs/breathingspaces/lib/python3.7/site-packages/urllib3/connectionpool.py:847: InsecureRequestWarning: Unverified HTTPS request is being made. Adding certificate verification is strongly advised. See: https://urllib3.readthedocs.io/en/latest/advanced-usage.html#ssl-warnings\n",
      "  InsecureRequestWarning)\n"
     ]
    }
   ],
   "source": [
    "from influxdb import InfluxDBClient\n",
    "\n",
    "client = InfluxDBClient('aqdata.uksouth.cloudapp.azure.com', 8086, 'admin', '', 'aqdata', ssl=True) \n",
    "db_data = client.query('SELECT * FROM \"ttn\" WHERE \"p_display\" = \\'true\\' ')\n"
   ]
  },
  {
   "cell_type": "code",
   "execution_count": 8,
   "metadata": {},
   "outputs": [],
   "source": [
    "tag_keys = ['app_id',\n",
    "'dev_id',\n",
    "'hardware_serial',\n",
    "'m_coding_rate',\n",
    "'m_data_rate',\n",
    "'m_frequency',\n",
    "'p_corrected',\n",
    "'p_display',\n",
    "'p_version',\n",
    "'port']"
   ]
  },
  {
   "cell_type": "code",
   "execution_count": 9,
   "metadata": {},
   "outputs": [],
   "source": [
    "def float_or_none(x):\n",
    "    if x is None:\n",
    "        return None\n",
    "    else:\n",
    "        return float(x)"
   ]
  },
  {
   "cell_type": "code",
   "execution_count": 10,
   "metadata": {},
   "outputs": [],
   "source": [
    "float_keys = ['m_latitude', 'm_longitude', 'p_dht22_hum', 'p_dht22_pid',\n",
    "              'p_dht22_temp', 'p_hpma115s0_pid', 'p_humidity', 'p_int_temp', 'p_load1', 'p_load2', 'p_load3',\n",
    "              'p_opcn2_pid', 'p_pms5003_pid', 'p_pms7003_pid', 'p_temperature']"
   ]
  },
  {
   "cell_type": "code",
   "execution_count": 11,
   "metadata": {},
   "outputs": [],
   "source": [
    "data_to_write = []\n",
    "for point in db_data.get_points():\n",
    "    tags = {k: point[k] for k in tag_keys}\n",
    "    tags['p_display'] = True\n",
    "    \n",
    "    fields = {k: point[k] for k in point.keys() if k not in tag_keys}\n",
    "    del fields['time']\n",
    "    \n",
    "    for key in float_keys:\n",
    "        fields[key] = float_or_none(fields[key])\n",
    "    \n",
    "    new_point = {'measurement': 'ttn',\n",
    "                  'tags': tags,\n",
    "                  'time': point['time'],\n",
    "                  'fields': fields,\n",
    "                  }\n",
    "    data_to_write.append(new_point)"
   ]
  },
  {
   "cell_type": "code",
   "execution_count": 13,
   "metadata": {},
   "outputs": [
    {
     "data": {
      "text/plain": [
       "68"
      ]
     },
     "execution_count": 13,
     "metadata": {},
     "output_type": "execute_result"
    }
   ],
   "source": [
    "len(data_to_write)"
   ]
  },
  {
   "cell_type": "code",
   "execution_count": 14,
   "metadata": {},
   "outputs": [
    {
     "data": {
      "text/plain": [
       "{'measurement': 'ttn',\n",
       " 'tags': {'app_id': 'aq-deployment',\n",
       "  'dev_id': 'nesta-11',\n",
       "  'hardware_serial': '00B390EDA54CF086',\n",
       "  'm_coding_rate': '4/5',\n",
       "  'm_data_rate': 'SF10BW125',\n",
       "  'm_frequency': '867.3',\n",
       "  'p_corrected': False,\n",
       "  'p_display': True,\n",
       "  'p_version': '2',\n",
       "  'port': '1'},\n",
       " 'time': '2020-02-04T12:00:06.185397007Z',\n",
       " 'fields': {'airsensa0001': None,\n",
       "  'aql-cowes-1': None,\n",
       "  'counter': 8828,\n",
       "  'csn-mtcdtip-003b02': None,\n",
       "  'csn-mtcdtip-003b03': None,\n",
       "  'eui-0000024b080601ef': None,\n",
       "  'eui-0000024b0b030e6d': None,\n",
       "  'eui-0000024b0b030f66': None,\n",
       "  'eui-0000024b0b030f67': None,\n",
       "  'eui-0000024b0b031c97': None,\n",
       "  'eui-00800000a0001b7a': None,\n",
       "  'eui-00800000a0004dac': None,\n",
       "  'eui-00800000a0004ef2': None,\n",
       "  'eui-58a0cbfffe8004f1': None,\n",
       "  'eui-647fdafffe005203': None,\n",
       "  'eui-7276ff002e0627e1': None,\n",
       "  'eui-7276ff002e062804': None,\n",
       "  'eui-7276ff002e062a15': None,\n",
       "  'eui-7276fffffe010280': None,\n",
       "  'eui-7276fffffe01028c': -111,\n",
       "  'eui-7276fffffe010292': -135,\n",
       "  'eui-7276fffffe0103ec': -119,\n",
       "  'eui-7276fffffe0103f0': -107,\n",
       "  'eui-b827ebfffe2d3798': -90,\n",
       "  'eui-b827ebfffe750f4a': None,\n",
       "  'eui-b827ebfffeae194d': None,\n",
       "  'eui-b827ebfffeb058ec': -107,\n",
       "  'eui-b827ebfffeb05d2b': None,\n",
       "  'eui-b827ebfffee36ef8': -105,\n",
       "  'is_retry': None,\n",
       "  'm_airtime': 370688000,\n",
       "  'm_latitude': None,\n",
       "  'm_location_source': None,\n",
       "  'm_longitude': None,\n",
       "  'mchp_ttn_f1f8': None,\n",
       "  'p_corrected_1': None,\n",
       "  'p_count': 44,\n",
       "  'p_dht22_hum': None,\n",
       "  'p_dht22_pid': None,\n",
       "  'p_dht22_temp': None,\n",
       "  'p_hpma115s0_pid': None,\n",
       "  'p_hpma115s0_pm10': None,\n",
       "  'p_hpma115s0_pm25': None,\n",
       "  'p_humidity': 51.0,\n",
       "  'p_int_temp': None,\n",
       "  'p_load1': None,\n",
       "  'p_load2': None,\n",
       "  'p_load3': None,\n",
       "  'p_opcn2_pid': None,\n",
       "  'p_opcn2_pm10': None,\n",
       "  'p_opcn2_pm25': None,\n",
       "  'p_pm10': 5,\n",
       "  'p_pm1_count': None,\n",
       "  'p_pm1_id': None,\n",
       "  'p_pm1_pm10': None,\n",
       "  'p_pm1_pm25': None,\n",
       "  'p_pm25': 3,\n",
       "  'p_pm2_count': None,\n",
       "  'p_pm2_id': None,\n",
       "  'p_pm2_pm10': None,\n",
       "  'p_pm2_pm25': None,\n",
       "  'p_pm_sensor_count': 6,\n",
       "  'p_pms5003_pid': None,\n",
       "  'p_pms5003_pm10': None,\n",
       "  'p_pms5003_pm25': None,\n",
       "  'p_pms7003_pid': None,\n",
       "  'p_pms7003_pm10': None,\n",
       "  'p_pms7003_pm25': None,\n",
       "  'p_temp_count': None,\n",
       "  'p_temp_id': None,\n",
       "  'p_temperature': 11.0,\n",
       "  'p_temphum_sensor_count': 1,\n",
       "  'p_timestamp': None,\n",
       "  'payload_raw': 'AgAwBXrMLGQ=',\n",
       "  'things-gateway-001ec03afacb': None}}"
      ]
     },
     "execution_count": 14,
     "metadata": {},
     "output_type": "execute_result"
    }
   ],
   "source": [
    "data_to_write[0]"
   ]
  },
  {
   "cell_type": "code",
   "execution_count": 15,
   "metadata": {},
   "outputs": [
    {
     "name": "stderr",
     "output_type": "stream",
     "text": [
      "/Users/robin/anaconda3/envs/breathingspaces/lib/python3.7/site-packages/urllib3/connectionpool.py:847: InsecureRequestWarning: Unverified HTTPS request is being made. Adding certificate verification is strongly advised. See: https://urllib3.readthedocs.io/en/latest/advanced-usage.html#ssl-warnings\n",
      "  InsecureRequestWarning)\n"
     ]
    },
    {
     "data": {
      "text/plain": [
       "True"
      ]
     },
     "execution_count": 15,
     "metadata": {},
     "output_type": "execute_result"
    }
   ],
   "source": [
    "client.write_points(data_to_write)"
   ]
  },
  {
   "cell_type": "code",
   "execution_count": 16,
   "metadata": {},
   "outputs": [
    {
     "name": "stderr",
     "output_type": "stream",
     "text": [
      "/Users/robin/anaconda3/envs/breathingspaces/lib/python3.7/site-packages/urllib3/connectionpool.py:847: InsecureRequestWarning: Unverified HTTPS request is being made. Adding certificate verification is strongly advised. See: https://urllib3.readthedocs.io/en/latest/advanced-usage.html#ssl-warnings\n",
      "  InsecureRequestWarning)\n"
     ]
    },
    {
     "data": {
      "text/plain": [
       "ResultSet({})"
      ]
     },
     "execution_count": 16,
     "metadata": {},
     "output_type": "execute_result"
    }
   ],
   "source": [
    "client.query(\"drop series from ttn where p_display='true'\")"
   ]
  },
  {
   "cell_type": "code",
   "execution_count": null,
   "metadata": {},
   "outputs": [],
   "source": []
  }
 ],
 "metadata": {
  "hide_input": false,
  "kernelspec": {
   "display_name": "Python 3",
   "language": "python",
   "name": "python3"
  },
  "language_info": {
   "codemirror_mode": {
    "name": "ipython",
    "version": 3
   },
   "file_extension": ".py",
   "mimetype": "text/x-python",
   "name": "python",
   "nbconvert_exporter": "python",
   "pygments_lexer": "ipython3",
   "version": "3.7.1"
  }
 },
 "nbformat": 4,
 "nbformat_minor": 4
}
