{
 "cells": [
  {
   "cell_type": "code",
   "execution_count": 1,
   "metadata": {},
   "outputs": [],
   "source": [
    "%matplotlib inline\n",
    "\n",
    "import pandas as pd\n",
    "import matplotlib.pyplot as plt\n",
    "from get_weather_data import getWeatherData"
   ]
  },
  {
   "cell_type": "code",
   "execution_count": 2,
   "metadata": {},
   "outputs": [],
   "source": [
    "from get_aq_data import get_flo_data, ID_to_name"
   ]
  },
  {
   "cell_type": "code",
   "execution_count": 3,
   "metadata": {},
   "outputs": [],
   "source": [
    "data, hourly_mean, daily_mean = get_flo_data()"
   ]
  },
  {
   "cell_type": "code",
   "execution_count": 12,
   "metadata": {},
   "outputs": [],
   "source": [
    "all_site_daily_mean = daily_mean.mean(axis=1)"
   ]
  },
  {
   "cell_type": "code",
   "execution_count": 20,
   "metadata": {},
   "outputs": [],
   "source": [
    "all_site_daily_max = data.resample('1D').max().mean(axis=1)"
   ]
  },
  {
   "cell_type": "code",
   "execution_count": 24,
   "metadata": {},
   "outputs": [],
   "source": [
    "all_site_daily_desc = data.mean(axis=1)\n",
    "all_site_daily_desc = all_site_daily_desc.resample('1D').agg(['min', 'max', 'mean', 'median'])"
   ]
  },
  {
   "cell_type": "code",
   "execution_count": 27,
   "metadata": {},
   "outputs": [
    {
     "name": "stdout",
     "output_type": "stream",
     "text": [
      "http://www.wunderground.com/weatherstation/WXDailyHistory.asp?ID=ISOUTHAM4&day=1&month=1&year=2019&graphspan=year&format=1\n"
     ]
    }
   ],
   "source": [
    "weather = getWeatherData('ISOUTHAM4', 1, 1, 2019, 'year')"
   ]
  },
  {
   "cell_type": "code",
   "execution_count": 28,
   "metadata": {},
   "outputs": [],
   "source": [
    "weather.index = pd.DatetimeIndex(weather.Date)"
   ]
  },
  {
   "cell_type": "code",
   "execution_count": 29,
   "metadata": {},
   "outputs": [],
   "source": [
    "merged = pd.merge(all_site_daily_desc, weather, left_index=True, right_index=True)"
   ]
  },
  {
   "cell_type": "code",
   "execution_count": 30,
   "metadata": {},
   "outputs": [
    {
     "data": {
      "text/plain": [
       "Index(['min', 'max', 'mean', 'median', 'Date', 'TemperatureHighC',\n",
       "       'TemperatureAvgC', 'TemperatureLowC', 'DewpointHighC', 'DewpointAvgC',\n",
       "       'DewpointLowC', 'HumidityHigh', 'HumidityAvg', 'HumidityLow',\n",
       "       'PressureMaxhPa', 'PressureMinhPa', 'WindSpeedMaxKMH',\n",
       "       'WindSpeedAvgKMH', 'GustSpeedMaxKMH', 'PrecipitationSumCM', 'station'],\n",
       "      dtype='object')"
      ]
     },
     "execution_count": 30,
     "metadata": {},
     "output_type": "execute_result"
    }
   ],
   "source": [
    "merged.columns"
   ]
  },
  {
   "cell_type": "code",
   "execution_count": 31,
   "metadata": {},
   "outputs": [
    {
     "data": {
      "text/plain": [
       "<matplotlib.axes._subplots.AxesSubplot at 0x1141e1208>"
      ]
     },
     "execution_count": 31,
     "metadata": {},
     "output_type": "execute_result"
    },
    {
     "data": {
      "image/png": "[encoded data removed]",
      "text/plain": [
       "<Figure size 432x288 with 1 Axes>"
      ]
     },
     "metadata": {
      "needs_background": "light"
     },
     "output_type": "display_data"
    }
   ],
   "source": [
    "merged.plot(x='TemperatureLowC', y='max', kind='scatter')"
   ]
  },
  {
   "cell_type": "code",
   "execution_count": 33,
   "metadata": {},
   "outputs": [
    {
     "data": {
      "text/plain": [
       "<matplotlib.axes._subplots.AxesSubplot at 0x114295d68>"
      ]
     },
     "execution_count": 33,
     "metadata": {},
     "output_type": "execute_result"
    },
    {
     "data": {
      "image/png": "[encoded data removed]",
      "text/plain": [
       "<Figure size 432x288 with 1 Axes>"
      ]
     },
     "metadata": {
      "needs_background": "light"
     },
     "output_type": "display_data"
    }
   ],
   "source": [
    "merged.plot(x='PressureMaxhPa', y='max', kind='scatter')"
   ]
  },
  {
   "cell_type": "code",
   "execution_count": 39,
   "metadata": {},
   "outputs": [
    {
     "data": {
      "text/plain": [
       "TemperatureLowC      -0.452949\n",
       "DewpointLowC         -0.452492\n",
       "DewpointAvgC         -0.435169\n",
       "DewpointHighC        -0.390751\n",
       "TemperatureAvgC      -0.339073\n",
       "WindSpeedMaxKMH      -0.233952\n",
       "TemperatureHighC     -0.189622\n",
       "PrecipitationSumCM   -0.176034\n",
       "GustSpeedMaxKMH      -0.173946\n",
       "HumidityLow          -0.169688\n",
       "HumidityAvg          -0.162058\n",
       "WindSpeedAvgKMH      -0.110398\n",
       "HumidityHigh          0.094580\n",
       "PressureMaxhPa        0.184414\n",
       "PressureMinhPa        0.203793\n",
       "min                   0.726049\n",
       "median                0.868985\n",
       "mean                  0.921071\n",
       "max                   1.000000\n",
       "Name: max, dtype: float64"
      ]
     },
     "execution_count": 39,
     "metadata": {},
     "output_type": "execute_result"
    }
   ],
   "source": [
    "merged.corr()['max'].abs().sort_values()"
   ]
  },
  {
   "cell_type": "code",
   "execution_count": null,
   "metadata": {},
   "outputs": [],
   "source": []
  }
 ],
 "metadata": {
  "hide_input": false,
  "kernelspec": {
   "display_name": "Python 3",
   "language": "python",
   "name": "python3"
  },
  "language_info": {
   "codemirror_mode": {
    "name": "ipython",
    "version": 3
   },
   "file_extension": ".py",
   "mimetype": "text/x-python",
   "name": "python",
   "nbconvert_exporter": "python",
   "pygments_lexer": "ipython3",
   "version": "3.7.1"
  }
 },
 "nbformat": 4,
 "nbformat_minor": 2
}
