{
 "cells": [
  {
   "cell_type": "code",
   "execution_count": 1,
   "metadata": {},
   "outputs": [],
   "source": [
    "%matplotlib inline\n",
    "\n",
    "import pandas as pd\n",
    "import matplotlib.pyplot as plt"
   ]
  },
  {
   "cell_type": "code",
   "execution_count": 2,
   "metadata": {},
   "outputs": [],
   "source": [
    "from get_aq_data import get_flo_data, ID_to_name"
   ]
  },
  {
   "cell_type": "code",
   "execution_count": 3,
   "metadata": {},
   "outputs": [],
   "source": [
    "data, hourly_mean, daily_mean = get_flo_data()"
   ]
  },
  {
   "cell_type": "code",
   "execution_count": 4,
   "metadata": {},
   "outputs": [],
   "source": [
    "all_site_daily_mean = daily_mean.mean(axis=1)"
   ]
  },
  {
   "cell_type": "code",
   "execution_count": 27,
   "metadata": {},
   "outputs": [],
   "source": [
    "lwts = pd.read_csv('../Data/Weather/20CR_1871-1947_ncep_1948-2019_12hrs_UK.csv', parse_dates=[[0, 1, 2]], dayfirst=True)"
   ]
  },
  {
   "cell_type": "code",
   "execution_count": 28,
   "metadata": {},
   "outputs": [],
   "source": [
    "lwts = lwts.rename(columns={'day_ month_ year': 'timestamp', ' LWT': 'LWT'})"
   ]
  },
  {
   "cell_type": "code",
   "execution_count": 29,
   "metadata": {},
   "outputs": [],
   "source": [
    "lwts.index = pd.DatetimeIndex(lwts.timestamp)"
   ]
  },
  {
   "cell_type": "code",
   "execution_count": 30,
   "metadata": {},
   "outputs": [],
   "source": [
    "lwts = lwts['LWT']"
   ]
  },
  {
   "cell_type": "code",
   "execution_count": 31,
   "metadata": {},
   "outputs": [
    {
     "data": {
      "text/plain": [
       "timestamp\n",
       "1871-01-01    15\n",
       "1871-01-02    25\n",
       "1871-01-03    15\n",
       "1871-01-04    25\n",
       "1871-01-05    16\n",
       "1871-01-06    16\n",
       "1871-01-07    16\n",
       "1871-01-08    27\n",
       "1871-01-09    27\n",
       "1871-01-10    20\n",
       "1871-01-11    17\n",
       "1871-01-12     0\n",
       "1871-01-13    16\n",
       "1871-01-14    15\n",
       "1871-01-15    15\n",
       "1871-01-16    15\n",
       "1871-01-17    20\n",
       "1871-01-18    20\n",
       "1871-01-19    16\n",
       "1871-01-20     0\n",
       "1871-01-21    23\n",
       "1871-01-22    20\n",
       "1871-01-23    22\n",
       "1871-01-24    12\n",
       "1871-01-25    12\n",
       "1871-01-26    13\n",
       "1871-01-27     3\n",
       "1871-01-28    13\n",
       "1871-01-29    13\n",
       "1871-01-30    13\n",
       "              ..\n",
       "2019-08-09    20\n",
       "2019-08-10    20\n",
       "2019-08-11    27\n",
       "2019-08-12    16\n",
       "2019-08-13    16\n",
       "2019-08-14    25\n",
       "2019-08-15    17\n",
       "2019-08-16    15\n",
       "2019-08-17    25\n",
       "2019-08-18    26\n",
       "2019-08-19    16\n",
       "2019-08-20     6\n",
       "2019-08-21    15\n",
       "2019-08-22    15\n",
       "2019-08-23    15\n",
       "2019-08-24    14\n",
       "2019-08-25     0\n",
       "2019-08-26     5\n",
       "2019-08-27    -1\n",
       "2019-08-28    16\n",
       "2019-08-29    15\n",
       "2019-08-30    15\n",
       "2019-08-31    20\n",
       "2019-09-01     7\n",
       "2019-09-02    16\n",
       "2019-09-03    15\n",
       "2019-09-04    27\n",
       "2019-09-05     6\n",
       "2019-09-06    17\n",
       "2019-09-07     0\n",
       "Name: LWT, Length: 54306, dtype: int64"
      ]
     },
     "execution_count": 31,
     "metadata": {},
     "output_type": "execute_result"
    }
   ],
   "source": [
    "lwts"
   ]
  },
  {
   "cell_type": "code",
   "execution_count": 61,
   "metadata": {},
   "outputs": [],
   "source": [
    "merged = pd.merge(all_site_daily_mean.rename('PM25'), lwts.rename('LWT'), left_index=True, right_index=True)"
   ]
  },
  {
   "cell_type": "code",
   "execution_count": 62,
   "metadata": {},
   "outputs": [],
   "source": [
    "labels = {-1: 'U',\n",
    "-9: 'non-existent day',\n",
    "0: 'A',\n",
    "20: 'C',\n",
    "1: 'ANE',\n",
    "11: 'NE',\n",
    "21: 'CNE',\n",
    "2: 'AE',\n",
    "12: 'E',\n",
    "22: 'CE',\n",
    "3: 'ASE',\n",
    "13: 'SE',\n",
    "23: 'CSE',\n",
    "4: 'AS',\n",
    "14: 'S',\n",
    "24: 'CS',\n",
    "5: 'ASW',\n",
    "15: 'SW',\n",
    "25: 'CSW',\n",
    "6: 'AW',\n",
    "16: 'W',\n",
    "26: 'CW',\n",
    "7: 'ANW',\n",
    "17: 'NW',\n",
    "27: 'CNW',\n",
    "8: 'AN',\n",
    "18: 'N',\n",
    "28: 'CN'}"
   ]
  },
  {
   "cell_type": "code",
   "execution_count": 63,
   "metadata": {},
   "outputs": [],
   "source": [
    "merged['LWT'] = merged['LWT'].replace(labels)"
   ]
  },
  {
   "cell_type": "code",
   "execution_count": 77,
   "metadata": {},
   "outputs": [
    {
     "data": {
      "image/png": "[encoded data removed]",
      "text/plain": [
       "<Figure size 720x432 with 1 Axes>"
      ]
     },
     "metadata": {
      "needs_background": "light"
     },
     "output_type": "display_data"
    }
   ],
   "source": [
    "merged.boxplot(by='LWT', figsize=(10, 6))\n",
    "#plt.title('Marathon day (5th May 2019) vs other Sundays in April/May')\n",
    "plt.suptitle('')\n",
    "plt.title('Boxplot of Lamb Weather Types')\n",
    "plt.ylabel(r'$\\mathrm{PM}_{2.5}$ ($\\mu g / m^3$)')\n",
    "plt.xlabel('Lamb Weather Type')\n",
    "plt.tight_layout()\n",
    "plt.savefig('graphs/BoxplotLWTs.png', dpi=300)"
   ]
  },
  {
   "cell_type": "code",
   "execution_count": 70,
   "metadata": {},
   "outputs": [],
   "source": [
    "merged['Gross_LWT'] = merged.LWT.str.get(0)"
   ]
  },
  {
   "cell_type": "code",
   "execution_count": 71,
   "metadata": {},
   "outputs": [],
   "source": [
    "def replace_func(x):\n",
    "    if x == 'A':\n",
    "        return 'Anticyclonic'\n",
    "    elif x == 'C':\n",
    "        return 'Cyclonic'\n",
    "    else:\n",
    "        return 'Neither'"
   ]
  },
  {
   "cell_type": "code",
   "execution_count": 74,
   "metadata": {},
   "outputs": [],
   "source": [
    "merged['Gross_LWT'] = merged['Gross_LWT'].apply(replace_func)"
   ]
  },
  {
   "cell_type": "code",
   "execution_count": 78,
   "metadata": {},
   "outputs": [
    {
     "data": {
      "image/png": "[encoded data removed]",
      "text/plain": [
       "<Figure size 720x432 with 1 Axes>"
      ]
     },
     "metadata": {
      "needs_background": "light"
     },
     "output_type": "display_data"
    }
   ],
   "source": [
    "merged.boxplot(by='Gross_LWT', figsize=(10, 6))\n",
    "#plt.title('Marathon day (5th May 2019) vs other Sundays in April/May')\n",
    "plt.suptitle('')\n",
    "plt.title('Boxplot of weather system type')\n",
    "plt.ylabel(r'$\\mathrm{PM}_{2.5}$ ($\\mu g / m^3$)')\n",
    "plt.xlabel('Gross Weather Type')\n",
    "plt.tight_layout()\n",
    "plt.savefig('graphs/BoxplotGrossLWTs.png', dpi=300)"
   ]
  }
 ],
 "metadata": {
  "hide_input": false,
  "kernelspec": {
   "display_name": "Python 3",
   "language": "python",
   "name": "python3"
  },
  "language_info": {
   "codemirror_mode": {
    "name": "ipython",
    "version": 3
   },
   "file_extension": ".py",
   "mimetype": "text/x-python",
   "name": "python",
   "nbconvert_exporter": "python",
   "pygments_lexer": "ipython3",
   "version": "3.7.1"
  }
 },
 "nbformat": 4,
 "nbformat_minor": 2
}
